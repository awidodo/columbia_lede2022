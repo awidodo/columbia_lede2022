{
 "cells": [
  {
   "cell_type": "markdown",
   "metadata": {},
   "source": [
    "# WeatherAPI (Weather)\n",
    "\n",
    "Answer the following questions using [WeatherAPI](http://www.weatherapi.com/). I've added three cells for most questions but you're free to use more or less! Hold `Shift` and hit `Enter` to run a cell, and use the `+` on the top left to add a new cell to a notebook.\n",
    "\n",
    "Be sure to take advantage of both the documentation and the API Explorer!\n",
    "\n",
    "## 0) Import any libraries you might need\n",
    "\n",
    "- *Tip: We're going to be downloading things from the internet, so we probably need `requests`.*\n",
    "- *Tip: Remember you only need to import requests once!*"
   ]
  },
  {
   "cell_type": "code",
   "execution_count": 22,
   "metadata": {},
   "outputs": [],
   "source": [
    "import requests\n",
    "import json\n",
    "\n"
   ]
  },
  {
   "cell_type": "code",
   "execution_count": null,
   "metadata": {},
   "outputs": [],
   "source": []
  },
  {
   "cell_type": "markdown",
   "metadata": {
    "collapsed": true
   },
   "source": [
    "## 1) Make a request to the Weather API for where you were born (or lived, or want to visit!).\n",
    "\n",
    "- *Tip: The URL we used in class was for a place near San Francisco. What was the format of the endpoint that made this happen?*\n",
    "- *Tip: Save the URL as a separate variable, and be sure to not have `[` and `]` inside.*\n",
    "- *Tip: How is north vs. south and east vs. west latitude/longitude represented? Is it the normal North/South/East/West?*\n",
    "- *Tip: You know it's JSON, but Python doesn't! Make sure you aren't trying to deal with plain text.* \n",
    "- *Tip: Once you've imported the JSON into a variable, check the timezone's name to make sure it seems like it got the right part of the world!*"
   ]
  },
  {
   "cell_type": "code",
   "execution_count": 25,
   "metadata": {},
   "outputs": [],
   "source": [
    "url = \"http://api.weatherapi.com/v1/current.json?key=d724982c44574de8b3d31655222006&q=Jakarta&aqi=no\"\n",
    "response = requests.get(url)\n",
    "data = response.json()"
   ]
  },
  {
   "cell_type": "code",
   "execution_count": 34,
   "metadata": {},
   "outputs": [
    {
     "name": "stdout",
     "output_type": "stream",
     "text": [
      "Name of City:  Jakarta\n"
     ]
    }
   ],
   "source": [
    "print(\"Name of City:\", data['location']['name'])"
   ]
  },
  {
   "cell_type": "code",
   "execution_count": 36,
   "metadata": {},
   "outputs": [
    {
     "name": "stdout",
     "output_type": "stream",
     "text": [
      "Timezone: Asia/Jakarta\n"
     ]
    }
   ],
   "source": [
    "print(\"Timezone:\", data['location']['tz_id'])"
   ]
  },
  {
   "cell_type": "markdown",
   "metadata": {},
   "source": [
    "## 2) What's the current wind speed? How much warmer does it feel than it actually is?\n",
    "\n",
    "- *Tip: You can do this by browsing through the dictionaries, but it might be easier to read the documentation*\n",
    "- *Tip: For the second half: it **is** one temperature, and it **feels** a different temperature. Calculate the difference.*"
   ]
  },
  {
   "cell_type": "code",
   "execution_count": 42,
   "metadata": {},
   "outputs": [
    {
     "name": "stdout",
     "output_type": "stream",
     "text": [
      "{'last_updated_epoch': 1655712000, 'last_updated': '2022-06-20 15:00', 'temp_c': 31.0, 'temp_f': 87.8, 'is_day': 1, 'condition': {'text': 'Mist', 'icon': '//cdn.weatherapi.com/weather/64x64/day/143.png', 'code': 1030}, 'wind_mph': 9.4, 'wind_kph': 15.1, 'wind_degree': 20, 'wind_dir': 'NNE', 'pressure_mb': 1006.0, 'pressure_in': 29.71, 'precip_mm': 0.1, 'precip_in': 0.0, 'humidity': 71, 'cloud': 50, 'feelslike_c': 33.9, 'feelslike_f': 92.9, 'vis_km': 5.0, 'vis_miles': 3.0, 'uv': 7.0, 'gust_mph': 10.7, 'gust_kph': 17.3}\n"
     ]
    }
   ],
   "source": [
    "print(data['current'])"
   ]
  },
  {
   "cell_type": "code",
   "execution_count": 44,
   "metadata": {},
   "outputs": [
    {
     "name": "stdout",
     "output_type": "stream",
     "text": [
      "Current Wind Speed: 9.4 mph or 15.1 kph\n"
     ]
    }
   ],
   "source": [
    "print(\"Current Wind Speed:\", data['current']['wind_mph'], \"mph or\", data['current']['wind_kph'],\"kph\" )"
   ]
  },
  {
   "cell_type": "code",
   "execution_count": 49,
   "metadata": {},
   "outputs": [
    {
     "name": "stdout",
     "output_type": "stream",
     "text": [
      "It feels warmer than the actual temperature by 2.9 degrees celsius\n"
     ]
    }
   ],
   "source": [
    "feelsCelsius = data['current']['feelslike_c']\n",
    "tempCelsius = data['current']['temp_c']\n",
    "\n",
    "if feelsCelsius > tempCelsius:\n",
    "    diff1 = feelsCelsius - tempCelsius\n",
    "    print(\"It feels warmer than the actual temperature by\", round(diff1,2),\"degrees celsius\")\n",
    "else:\n",
    "    diff2 = tempCelsius - feelsCelsius\n",
    "    print(\"It feels colder than the actual temperature by\", round(diff2,2), \"degrees celsius\")\n",
    "    "
   ]
  },
  {
   "cell_type": "markdown",
   "metadata": {},
   "source": [
    "## 3) What is the API endpoint for moon-related information? For the place you decided on above, how much of the moon will be visible tomorrow?\n",
    "\n",
    "- *Tip: Check the documentation!*\n",
    "- *Tip: If you aren't sure what something means, ask in Slack*"
   ]
  },
  {
   "cell_type": "code",
   "execution_count": 51,
   "metadata": {},
   "outputs": [],
   "source": [
    "apiEndpointMoon = \"http://api.weatherapi.com/v1/astronomy.json?key=d724982c44574de8b3d31655222006&q=Jakarta&dt=2022-06-20\"\n",
    "response = requests.get(apiEndpointMoon)\n",
    "data = response.json()"
   ]
  },
  {
   "cell_type": "code",
   "execution_count": 59,
   "metadata": {},
   "outputs": [
    {
     "name": "stdout",
     "output_type": "stream",
     "text": [
      "The moon will be visible by: 59 in Jakarta.\n"
     ]
    }
   ],
   "source": [
    "print(\"The moon will be visible by:\", data['astronomy']['astro']['moon_illumination'], \"in Jakarta.\")"
   ]
  },
  {
   "cell_type": "code",
   "execution_count": null,
   "metadata": {},
   "outputs": [],
   "source": []
  },
  {
   "cell_type": "markdown",
   "metadata": {},
   "source": [
    "## 4) What's the difference between the high and low temperatures for today?\n",
    "\n",
    "- *Tip: When you requested moon data, you probably overwrote your variables! If so, you'll need to make a new request.*"
   ]
  },
  {
   "cell_type": "code",
   "execution_count": 90,
   "metadata": {},
   "outputs": [
    {
     "name": "stdout",
     "output_type": "stream",
     "text": [
      "{'maxtemp_c': 33.9, 'maxtemp_f': 93.0, 'mintemp_c': 25.5, 'mintemp_f': 77.9, 'avgtemp_c': 28.6, 'avgtemp_f': 83.6, 'maxwind_mph': 8.7, 'maxwind_kph': 14.0, 'totalprecip_mm': 3.9, 'totalprecip_in': 0.15, 'avgvis_km': 9.8, 'avgvis_miles': 6.0, 'avghumidity': 69.0, 'daily_will_it_rain': 1, 'daily_chance_of_rain': 96, 'daily_will_it_snow': 0, 'daily_chance_of_snow': 0, 'condition': {'text': 'Patchy rain possible', 'icon': '//cdn.weatherapi.com/weather/64x64/day/176.png', 'code': 1063}, 'uv': 10.0}\n"
     ]
    }
   ],
   "source": [
    "url = \"http://api.weatherapi.com/v1/forecast.json?key=d724982c44574de8b3d31655222006&q=Jakarta&days=1&aqi=no&alerts=no\"\n",
    "response = requests.get(url)\n",
    "data = response.json()\n",
    "print(data['forecast']['forecastday'][0]['day'])"
   ]
  },
  {
   "cell_type": "code",
   "execution_count": 92,
   "metadata": {},
   "outputs": [
    {
     "name": "stdout",
     "output_type": "stream",
     "text": [
      "The highest temperature is 33.9 degrees celsius and the lowest temperature is 25.5 degrees celsius and the difference is 8.4 degrees celsius.\n"
     ]
    }
   ],
   "source": [
    "maxtempC = data['forecast']['forecastday'][0]['day']['maxtemp_c']\n",
    "mintempC = data['forecast']['forecastday'][0]['day']['mintemp_c']\n",
    "\n",
    "diff = round(maxtempC - mintempC,2)\n",
    "\n",
    "print(\"The highest temperature is\", maxtempC, \"degrees celsius and the lowest temperature is\", mintempC, \"degrees celsius and the difference is\", diff, \"degrees celsius.\")\n",
    "\n"
   ]
  },
  {
   "cell_type": "markdown",
   "metadata": {
    "collapsed": true
   },
   "source": [
    "## 4.5) How can you avoid the \"oh no I don't have the data any more because I made another request\" problem in the future?\n",
    "\n",
    "What variable(s) do you have to rename, and what would you rename them?"
   ]
  },
  {
   "cell_type": "markdown",
   "metadata": {},
   "source": [
    "data and response would have to be renamed with a more specific variable\n",
    "\n",
    "i.e.\n",
    "dataLocation would have responseLocation\n",
    "dataForecast would have responseForecast"
   ]
  },
  {
   "cell_type": "code",
   "execution_count": null,
   "metadata": {},
   "outputs": [],
   "source": []
  },
  {
   "cell_type": "markdown",
   "metadata": {},
   "source": [
    "## 5) Go through the daily forecasts, printing out the next three days' worth of predictions.\n",
    "\n",
    "I'd like to know the **high temperature** for each day, and whether it's **hot, warm, or cold** (based on what temperatures you think are hot, warm or cold).\n",
    "\n",
    "- *Tip: You'll need to use an `if` statement to say whether it is hot, warm or cold.*"
   ]
  },
  {
   "cell_type": "code",
   "execution_count": 120,
   "metadata": {},
   "outputs": [],
   "source": [
    "urlForecasts = \"http://api.weatherapi.com/v1/forecast.json?key=d724982c44574de8b3d31655222006&q=Jakarta&days=3&aqi=no&alerts=no\"\n",
    "responseForecasts = requests.get(urlForecasts)\n",
    "dataForecasts = responseForecasts.json()"
   ]
  },
  {
   "cell_type": "code",
   "execution_count": 129,
   "metadata": {},
   "outputs": [
    {
     "name": "stdout",
     "output_type": "stream",
     "text": [
      "2022-06-20 2022-06-21 2022-06-22\n"
     ]
    }
   ],
   "source": [
    "date1 = dataForecasts['forecast']['forecastday'][0]['date']\n",
    "date2 = dataForecasts['forecast']['forecastday'][1]['date']\n",
    "date3 = dataForecasts['forecast']['forecastday'][2]['date']\n",
    "\n",
    "print(date1, date2, date3)"
   ]
  },
  {
   "cell_type": "code",
   "execution_count": 134,
   "metadata": {},
   "outputs": [
    {
     "name": "stdout",
     "output_type": "stream",
     "text": [
      "On 2022-06-20 the temperature is 28.6 degrees celsius which will be warm\n",
      "On 2022-06-21 the temperature is 28.3 degrees celsius which will be warm\n",
      "On 2022-06-22 the temperature is 28.3 degrees celsius which will be warm\n"
     ]
    }
   ],
   "source": [
    "day1 = dataForecasts['forecast']['forecastday'][0]['day']['avgtemp_c']\n",
    "day2 = dataForecasts['forecast']['forecastday'][1]['day']['avgtemp_c']\n",
    "day3 = dataForecasts['forecast']['forecastday'][2]['day']['avgtemp_c']\n",
    "\n",
    "if day1 < 20:\n",
    "    print(\"On\", date1, \"the temperature is\", day1, \"degrees celsius which will be cold\")\n",
    "elif day1 <30:\n",
    "    print(\"On\", date1, \"the temperature is\", day1, \"degrees celsius which will be warm\")\n",
    "else:\n",
    "    print(\"On\", date1, \"the temperature is\", day1, \"degrees celsius which will be hot\")\n",
    "    \n",
    "if day2 < 20:\n",
    "    print(\"On\", date2, \"the temperature is\", day2, \"degrees celsius which will be cold\")\n",
    "elif day2 <30:\n",
    "    print(\"On\", date2, \"the temperature is\", day2, \"degrees celsius which will be warm\")\n",
    "else:\n",
    "    print(\"On\", date2, \"the temperature is\", day2, \"degrees celsius which will be hot\")\n",
    "    \n",
    "if day3 < 20:\n",
    "    print(\"On\", date3, \"the temperature is\", day3, \"degrees celsius which will be cold\")\n",
    "elif day3 <30:\n",
    "    print(\"On\", date3, \"the temperature is\", day3, \"degrees celsius which will be warm\")\n",
    "else:\n",
    "    print(\"On\", date3, \"the temperature is\", day3, \"degrees celsius which will be hot\")\n",
    "    "
   ]
  },
  {
   "cell_type": "markdown",
   "metadata": {},
   "source": [
    "## 5b) The question above used to be an entire week, but not any more. Try to re-use the code above to print out seven days.\n",
    "\n",
    "What happens? Can you figure out why it doesn't work?\n",
    "\n",
    "* *Tip: it has to do with the reason you're using an API key - maybe take a look at the \"Air Quality Data\" introduction for a hint? If you can't figure it out right now, no worries.*"
   ]
  },
  {
   "cell_type": "code",
   "execution_count": 135,
   "metadata": {},
   "outputs": [
    {
     "ename": "IndexError",
     "evalue": "list index out of range",
     "output_type": "error",
     "traceback": [
      "\u001b[0;31m---------------------------------------------------------------------------\u001b[0m",
      "\u001b[0;31mIndexError\u001b[0m                                Traceback (most recent call last)",
      "Input \u001b[0;32mIn [135]\u001b[0m, in \u001b[0;36m<cell line: 4>\u001b[0;34m()\u001b[0m\n\u001b[1;32m      2\u001b[0m date2 \u001b[38;5;241m=\u001b[39m dataForecasts[\u001b[38;5;124m'\u001b[39m\u001b[38;5;124mforecast\u001b[39m\u001b[38;5;124m'\u001b[39m][\u001b[38;5;124m'\u001b[39m\u001b[38;5;124mforecastday\u001b[39m\u001b[38;5;124m'\u001b[39m][\u001b[38;5;241m1\u001b[39m][\u001b[38;5;124m'\u001b[39m\u001b[38;5;124mdate\u001b[39m\u001b[38;5;124m'\u001b[39m]\n\u001b[1;32m      3\u001b[0m date3 \u001b[38;5;241m=\u001b[39m dataForecasts[\u001b[38;5;124m'\u001b[39m\u001b[38;5;124mforecast\u001b[39m\u001b[38;5;124m'\u001b[39m][\u001b[38;5;124m'\u001b[39m\u001b[38;5;124mforecastday\u001b[39m\u001b[38;5;124m'\u001b[39m][\u001b[38;5;241m2\u001b[39m][\u001b[38;5;124m'\u001b[39m\u001b[38;5;124mdate\u001b[39m\u001b[38;5;124m'\u001b[39m]\n\u001b[0;32m----> 4\u001b[0m date4 \u001b[38;5;241m=\u001b[39m \u001b[43mdataForecasts\u001b[49m\u001b[43m[\u001b[49m\u001b[38;5;124;43m'\u001b[39;49m\u001b[38;5;124;43mforecast\u001b[39;49m\u001b[38;5;124;43m'\u001b[39;49m\u001b[43m]\u001b[49m\u001b[43m[\u001b[49m\u001b[38;5;124;43m'\u001b[39;49m\u001b[38;5;124;43mforecastday\u001b[39;49m\u001b[38;5;124;43m'\u001b[39;49m\u001b[43m]\u001b[49m\u001b[43m[\u001b[49m\u001b[38;5;241;43m3\u001b[39;49m\u001b[43m]\u001b[49m[\u001b[38;5;124m'\u001b[39m\u001b[38;5;124mdate\u001b[39m\u001b[38;5;124m'\u001b[39m]\n",
      "\u001b[0;31mIndexError\u001b[0m: list index out of range"
     ]
    }
   ],
   "source": [
    "date1 = dataForecasts['forecast']['forecastday'][0]['date']\n",
    "date2 = dataForecasts['forecast']['forecastday'][1]['date']\n",
    "date3 = dataForecasts['forecast']['forecastday'][2]['date']\n",
    "date4 = dataForecasts['forecast']['forecastday'][3]['date']"
   ]
  },
  {
   "cell_type": "markdown",
   "metadata": {},
   "source": []
  },
  {
   "cell_type": "code",
   "execution_count": null,
   "metadata": {},
   "outputs": [],
   "source": []
  },
  {
   "cell_type": "markdown",
   "metadata": {},
   "source": [
    "## 6) What will be the hottest day in the next three days? What is the high temperature on that day?"
   ]
  },
  {
   "cell_type": "code",
   "execution_count": 156,
   "metadata": {},
   "outputs": [
    {
     "ename": "TypeError",
     "evalue": "'>' not supported between instances of 'float' and 'dict_values'",
     "output_type": "error",
     "traceback": [
      "\u001b[0;31m---------------------------------------------------------------------------\u001b[0m",
      "\u001b[0;31mTypeError\u001b[0m                                 Traceback (most recent call last)",
      "Input \u001b[0;32mIn [156]\u001b[0m, in \u001b[0;36m<cell line: 3>\u001b[0;34m()\u001b[0m\n\u001b[1;32m      1\u001b[0m forecast3days \u001b[38;5;241m=\u001b[39m {date1 : day1, date2 : day2, date3 : day3}\n\u001b[1;32m      3\u001b[0m \u001b[38;5;28;01mfor\u001b[39;00m hottest \u001b[38;5;129;01min\u001b[39;00m forecast3days:\n\u001b[0;32m----> 4\u001b[0m     \u001b[38;5;28;01mif\u001b[39;00m \u001b[38;5;28;43mmax\u001b[39;49m\u001b[43m(\u001b[49m\u001b[43mforecast3days\u001b[49m\u001b[38;5;241;43m.\u001b[39;49m\u001b[43mvalues\u001b[49m\u001b[43m(\u001b[49m\u001b[43m)\u001b[49m\u001b[43m)\u001b[49m\u001b[43m \u001b[49m\u001b[38;5;241;43m>\u001b[39;49m\u001b[43m \u001b[49m\u001b[43mforecast3days\u001b[49m\u001b[38;5;241;43m.\u001b[39;49m\u001b[43mvalues\u001b[49m\u001b[43m(\u001b[49m\u001b[43m)\u001b[49m:\n\u001b[1;32m      5\u001b[0m         \u001b[38;5;28mprint\u001b[39m(hottest, \u001b[38;5;28mmax\u001b[39m(forecast3days\u001b[38;5;241m.\u001b[39mvalues()))\n",
      "\u001b[0;31mTypeError\u001b[0m: '>' not supported between instances of 'float' and 'dict_values'"
     ]
    }
   ],
   "source": [
    "forecast3days = {date1 : day1, date2 : day2, date3 : day3}\n",
    "\n",
    "for hottest in forecast3days:\n",
    "    if max(forecast3days.values()) > forecast3days.values():\n",
    "        print(hottest, max(forecast3days.values()))"
   ]
  },
  {
   "cell_type": "code",
   "execution_count": null,
   "metadata": {},
   "outputs": [],
   "source": []
  },
  {
   "cell_type": "code",
   "execution_count": null,
   "metadata": {},
   "outputs": [],
   "source": []
  },
  {
   "cell_type": "markdown",
   "metadata": {},
   "source": [
    "## 7) What's the weather looking like for the next 24+ hours in Miami, Florida?\n",
    "\n",
    "I'd like to know the temperature for every hour, and if it's going to have cloud cover of more than 50% say \"{temperature} and cloudy\" instead of just the temperature. \n",
    "\n",
    "- *Tip: You'll only need one day of forecast*"
   ]
  },
  {
   "cell_type": "code",
   "execution_count": 184,
   "metadata": {},
   "outputs": [
    {
     "name": "stdout",
     "output_type": "stream",
     "text": [
      "{'time_epoch': 1655697600, 'time': '2022-06-20 00:00', 'temp_c': 29.0, 'temp_f': 84.2, 'is_day': 0, 'condition': {'text': 'Clear', 'icon': '//cdn.weatherapi.com/weather/64x64/night/113.png', 'code': 1000}, 'wind_mph': 7.2, 'wind_kph': 11.5, 'wind_degree': 183, 'wind_dir': 'S', 'pressure_mb': 1017.0, 'pressure_in': 30.04, 'precip_mm': 0.0, 'precip_in': 0.0, 'humidity': 66, 'cloud': 18, 'feelslike_c': 32.2, 'feelslike_f': 90.0, 'windchill_c': 29.0, 'windchill_f': 84.2, 'heatindex_c': 32.2, 'heatindex_f': 90.0, 'dewpoint_c': 22.0, 'dewpoint_f': 71.6, 'will_it_rain': 0, 'chance_of_rain': 0, 'will_it_snow': 0, 'chance_of_snow': 0, 'vis_km': 10.0, 'vis_miles': 6.0, 'gust_mph': 9.6, 'gust_kph': 15.5, 'uv': 1.0}\n"
     ]
    }
   ],
   "source": [
    "urlMiami = \"http://api.weatherapi.com/v1/forecast.json?key=d724982c44574de8b3d31655222006&q=Miami&days=1&aqi=no&alerts=no\"\n",
    "responseMiami = requests.get(urlMiami)\n",
    "dataMiami = responseMiami.json()\n",
    "\n",
    "print(dataMiami['forecast']['forecastday'][0]['hour'][0])"
   ]
  },
  {
   "cell_type": "code",
   "execution_count": 193,
   "metadata": {},
   "outputs": [
    {
     "name": "stdout",
     "output_type": "stream",
     "text": [
      "2022-06-20 00:00 29.0 degrees celsius\n",
      "2022-06-20 01:00 29.0 degrees celsius\n",
      "and cloudy\n",
      "2022-06-20 02:00 28.9 degrees celsius\n",
      "2022-06-20 03:00 28.8 degrees celsius\n",
      "and cloudy\n",
      "2022-06-20 04:00 28.8 degrees celsius\n",
      "2022-06-20 05:00 28.4 degrees celsius\n",
      "and cloudy\n",
      "2022-06-20 06:00 28.3 degrees celsius\n",
      "2022-06-20 07:00 28.3 degrees celsius\n",
      "and cloudy\n",
      "2022-06-20 08:00 28.5 degrees celsius\n",
      "2022-06-20 09:00 28.7 degrees celsius\n",
      "and cloudy\n",
      "2022-06-20 10:00 29.2 degrees celsius\n",
      "2022-06-20 11:00 32.6 degrees celsius\n",
      "and cloudy\n",
      "2022-06-20 12:00 33.0 degrees celsius\n",
      "2022-06-20 13:00 33.1 degrees celsius\n",
      "2022-06-20 14:00 33.1 degrees celsius\n",
      "and cloudy\n",
      "2022-06-20 15:00 33.0 degrees celsius\n",
      "2022-06-20 16:00 31.0 degrees celsius\n",
      "2022-06-20 17:00 30.5 degrees celsius\n",
      "2022-06-20 18:00 30.2 degrees celsius\n",
      "2022-06-20 19:00 29.8 degrees celsius\n",
      "2022-06-20 20:00 29.3 degrees celsius\n",
      "2022-06-20 21:00 29.5 degrees celsius\n",
      "and cloudy\n",
      "2022-06-20 22:00 29.3 degrees celsius\n",
      "2022-06-20 23:00 29.1 degrees celsius\n",
      "and cloudy\n"
     ]
    }
   ],
   "source": [
    "i = 0\n",
    "while i < 24:\n",
    "    print(dataMiami['forecast']['forecastday'][0]['hour'][i]['time'], \n",
    "         dataMiami['forecast']['forecastday'][0]['hour'][i]['temp_c'] , \"degrees celsius\")\n",
    "    if dataMiami['forecast']['forecastday'][0]['hour'][i][\"cloud\"] > 50:\n",
    "        print(\"and cloudy\")\n",
    "    i += 1"
   ]
  },
  {
   "cell_type": "code",
   "execution_count": null,
   "metadata": {},
   "outputs": [],
   "source": []
  },
  {
   "cell_type": "markdown",
   "metadata": {},
   "source": [
    "## 8) For the next 24-ish hours in Miami, what percent of the time is the temperature above 85 degrees?\n",
    "\n",
    "- *Tip: You might want to read up on [looping patterns](http://jonathansoma.com/lede/foundations-2017/classes/data%20structures/looping-patterns/)*"
   ]
  },
  {
   "cell_type": "code",
   "execution_count": 199,
   "metadata": {},
   "outputs": [
    {
     "ename": "TypeError",
     "evalue": "'>' not supported between instances of 'str' and 'int'",
     "output_type": "error",
     "traceback": [
      "\u001b[0;31m---------------------------------------------------------------------------\u001b[0m",
      "\u001b[0;31mTypeError\u001b[0m                                 Traceback (most recent call last)",
      "Input \u001b[0;32mIn [199]\u001b[0m, in \u001b[0;36m<cell line: 4>\u001b[0;34m()\u001b[0m\n\u001b[1;32m      3\u001b[0m temp \u001b[38;5;241m=\u001b[39m dataMiami[\u001b[38;5;124m'\u001b[39m\u001b[38;5;124mforecast\u001b[39m\u001b[38;5;124m'\u001b[39m][\u001b[38;5;124m'\u001b[39m\u001b[38;5;124mforecastday\u001b[39m\u001b[38;5;124m'\u001b[39m][\u001b[38;5;241m0\u001b[39m][\u001b[38;5;124m'\u001b[39m\u001b[38;5;124mhour\u001b[39m\u001b[38;5;124m'\u001b[39m][i][\u001b[38;5;124m'\u001b[39m\u001b[38;5;124mtemp_c\u001b[39m\u001b[38;5;124m'\u001b[39m]\n\u001b[1;32m      4\u001b[0m \u001b[38;5;28;01mfor\u001b[39;00m temp \u001b[38;5;129;01min\u001b[39;00m dataMiami:\n\u001b[0;32m----> 5\u001b[0m     \u001b[38;5;28;01mif\u001b[39;00m \u001b[43mtemp\u001b[49m\u001b[43m \u001b[49m\u001b[38;5;241;43m>\u001b[39;49m\u001b[43m \u001b[49m\u001b[38;5;241;43m85\u001b[39;49m:\n\u001b[1;32m      6\u001b[0m         total \u001b[38;5;241m+\u001b[39m\u001b[38;5;241m=\u001b[39m temp\n\u001b[1;32m      7\u001b[0m         \u001b[38;5;28mprint\u001b[39m(temp)\n",
      "\u001b[0;31mTypeError\u001b[0m: '>' not supported between instances of 'str' and 'int'"
     ]
    }
   ],
   "source": [
    "i = 0\n",
    "total = 0\n",
    "temp = dataMiami['forecast']['forecastday'][0]['hour'][i]['temp_c']\n",
    "for temp in dataMiami:\n",
    "    if temp > 85:\n",
    "        total += temp\n",
    "        print(temp)"
   ]
  },
  {
   "cell_type": "code",
   "execution_count": null,
   "metadata": {},
   "outputs": [],
   "source": []
  },
  {
   "cell_type": "code",
   "execution_count": null,
   "metadata": {
    "collapsed": true
   },
   "outputs": [],
   "source": []
  },
  {
   "cell_type": "markdown",
   "metadata": {},
   "source": [
    "## 9) How much will it cost if you need to use 1,500,000 API calls?\n",
    "\n",
    "You are only allowed 1,000,000 API calls each month. If you were really bad at this homework or made some awful loops, WeatherAPI might shut down your free access. \n",
    "\n",
    "* *Tip: this involves looking somewhere that isn't the normal documentation.*"
   ]
  },
  {
   "cell_type": "markdown",
   "metadata": {},
   "source": [
    "It would cost $4/month"
   ]
  },
  {
   "cell_type": "code",
   "execution_count": null,
   "metadata": {},
   "outputs": [],
   "source": []
  },
  {
   "cell_type": "markdown",
   "metadata": {},
   "source": [
    "## 10) You're too poor to spend more money! What else could you do instead of give them money?\n",
    "\n",
    "* *Tip: I'm not endorsing being sneaky, but newsrooms and students are both generally poverty-stricken.*"
   ]
  },
  {
   "cell_type": "markdown",
   "metadata": {},
   "source": [
    "I would have advertisments and endorsements for my work."
   ]
  }
 ],
 "metadata": {
  "kernelspec": {
   "display_name": "Python 3 (ipykernel)",
   "language": "python",
   "name": "python3"
  },
  "language_info": {
   "codemirror_mode": {
    "name": "ipython",
    "version": 3
   },
   "file_extension": ".py",
   "mimetype": "text/x-python",
   "name": "python",
   "nbconvert_exporter": "python",
   "pygments_lexer": "ipython3",
   "version": "3.10.3"
  }
 },
 "nbformat": 4,
 "nbformat_minor": 1
}
