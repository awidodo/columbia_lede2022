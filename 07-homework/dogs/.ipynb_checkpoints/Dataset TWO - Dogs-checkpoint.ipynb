{
 "cells": [
  {
   "cell_type": "markdown",
   "metadata": {},
   "source": [
    "# Homework 7, Part Two: A dataset about dogs.\n",
    "\n",
    "Data from [a FOIL request to New York City](https://www.muckrock.com/foi/new-york-city-17/pet-licensing-data-for-new-york-city-23826/)"
   ]
  },
  {
   "cell_type": "markdown",
   "metadata": {},
   "source": [
    "## Do your importing and your setup"
   ]
  },
  {
   "cell_type": "code",
   "execution_count": 111,
   "metadata": {},
   "outputs": [],
   "source": [
    "import pandas as pd\n",
    "import matplotlib as plt\n",
    "import numpy as np"
   ]
  },
  {
   "cell_type": "markdown",
   "metadata": {},
   "source": [
    "## Read in the file `NYC_Dog_Licenses_Current_as_of_4-28-2016.xlsx` and look at the first five rows"
   ]
  },
  {
   "cell_type": "code",
   "execution_count": 112,
   "metadata": {},
   "outputs": [
    {
     "data": {
      "text/html": [
       "<div>\n",
       "<style scoped>\n",
       "    .dataframe tbody tr th:only-of-type {\n",
       "        vertical-align: middle;\n",
       "    }\n",
       "\n",
       "    .dataframe tbody tr th {\n",
       "        vertical-align: top;\n",
       "    }\n",
       "\n",
       "    .dataframe thead th {\n",
       "        text-align: right;\n",
       "    }\n",
       "</style>\n",
       "<table border=\"1\" class=\"dataframe\">\n",
       "  <thead>\n",
       "    <tr style=\"text-align: right;\">\n",
       "      <th></th>\n",
       "      <th>Owner Zip Code</th>\n",
       "      <th>Animal Name</th>\n",
       "      <th>Animal Gender</th>\n",
       "      <th>Primary Breed</th>\n",
       "      <th>Secondary Breed</th>\n",
       "      <th>Animal Dominant Color</th>\n",
       "      <th>Animal Secondary Color</th>\n",
       "      <th>Animal Third Color</th>\n",
       "      <th>Animal Birth</th>\n",
       "      <th>Spayed or Neut</th>\n",
       "      <th>Guard or Trained</th>\n",
       "      <th>Vaccinated</th>\n",
       "      <th>Application Date</th>\n",
       "      <th>License Issued Date</th>\n",
       "      <th>License Expired Date</th>\n",
       "    </tr>\n",
       "  </thead>\n",
       "  <tbody>\n",
       "    <tr>\n",
       "      <th>0</th>\n",
       "      <td>10024</td>\n",
       "      <td>BLUE MACK</td>\n",
       "      <td>M</td>\n",
       "      <td>NaN</td>\n",
       "      <td>AIREDALE TERR</td>\n",
       "      <td>BROWN</td>\n",
       "      <td>BLACK</td>\n",
       "      <td>NaN</td>\n",
       "      <td>2007-11-01</td>\n",
       "      <td>Yes</td>\n",
       "      <td>No</td>\n",
       "      <td>Yes</td>\n",
       "      <td>2012-09-19 16:01:19.647</td>\n",
       "      <td>2015-09-19</td>\n",
       "      <td>2016-09-19</td>\n",
       "    </tr>\n",
       "    <tr>\n",
       "      <th>1</th>\n",
       "      <td>10461</td>\n",
       "      <td>Indie Zephir</td>\n",
       "      <td>M</td>\n",
       "      <td>Rottweiler</td>\n",
       "      <td>NaN</td>\n",
       "      <td>BLACK</td>\n",
       "      <td>TAN</td>\n",
       "      <td>NaN</td>\n",
       "      <td>2013-04-01</td>\n",
       "      <td>No</td>\n",
       "      <td>No</td>\n",
       "      <td>Yes</td>\n",
       "      <td>2013-09-20 11:41:36.647</td>\n",
       "      <td>2014-09-20</td>\n",
       "      <td>2018-09-20</td>\n",
       "    </tr>\n",
       "    <tr>\n",
       "      <th>2</th>\n",
       "      <td>10013</td>\n",
       "      <td>Bilal</td>\n",
       "      <td>M</td>\n",
       "      <td>Australian Cattledog</td>\n",
       "      <td>NaN</td>\n",
       "      <td>Rust</td>\n",
       "      <td>NaN</td>\n",
       "      <td>NaN</td>\n",
       "      <td>2014-09-01</td>\n",
       "      <td>Yes</td>\n",
       "      <td>NaN</td>\n",
       "      <td>No</td>\n",
       "      <td>2014-09-12 13:13:36.713</td>\n",
       "      <td>2014-09-12</td>\n",
       "      <td>2019-09-12</td>\n",
       "    </tr>\n",
       "    <tr>\n",
       "      <th>3</th>\n",
       "      <td>10025</td>\n",
       "      <td>Buddy</td>\n",
       "      <td>M</td>\n",
       "      <td>NaN</td>\n",
       "      <td>Cockapoo</td>\n",
       "      <td>BLOND</td>\n",
       "      <td>WHITE</td>\n",
       "      <td>NaN</td>\n",
       "      <td>2008-04-01</td>\n",
       "      <td>Yes</td>\n",
       "      <td>No</td>\n",
       "      <td>Yes</td>\n",
       "      <td>2014-09-12 15:26:51.417</td>\n",
       "      <td>2014-09-12</td>\n",
       "      <td>2017-10-20</td>\n",
       "    </tr>\n",
       "    <tr>\n",
       "      <th>4</th>\n",
       "      <td>10013</td>\n",
       "      <td>Ali</td>\n",
       "      <td>M</td>\n",
       "      <td>Basenji</td>\n",
       "      <td>NaN</td>\n",
       "      <td>Black</td>\n",
       "      <td>NaN</td>\n",
       "      <td>NaN</td>\n",
       "      <td>2014-01-01</td>\n",
       "      <td>No</td>\n",
       "      <td>NaN</td>\n",
       "      <td>No</td>\n",
       "      <td>2014-09-12 15:43:17.707</td>\n",
       "      <td>2014-09-12</td>\n",
       "      <td>2019-09-12</td>\n",
       "    </tr>\n",
       "  </tbody>\n",
       "</table>\n",
       "</div>"
      ],
      "text/plain": [
       "   Owner Zip Code   Animal Name Animal Gender         Primary Breed  \\\n",
       "0           10024     BLUE MACK             M                   NaN   \n",
       "1           10461  Indie Zephir             M            Rottweiler   \n",
       "2           10013         Bilal             M  Australian Cattledog   \n",
       "3           10025         Buddy             M                   NaN   \n",
       "4           10013           Ali             M               Basenji   \n",
       "\n",
       "  Secondary Breed Animal Dominant Color Animal Secondary Color  \\\n",
       "0   AIREDALE TERR                 BROWN                  BLACK   \n",
       "1             NaN                 BLACK                    TAN   \n",
       "2             NaN                  Rust                    NaN   \n",
       "3        Cockapoo                 BLOND                  WHITE   \n",
       "4             NaN                 Black                    NaN   \n",
       "\n",
       "  Animal Third Color Animal Birth Spayed or Neut Guard or Trained Vaccinated  \\\n",
       "0                NaN   2007-11-01            Yes               No        Yes   \n",
       "1                NaN   2013-04-01             No               No        Yes   \n",
       "2                NaN   2014-09-01            Yes              NaN         No   \n",
       "3                NaN   2008-04-01            Yes               No        Yes   \n",
       "4                NaN   2014-01-01             No              NaN         No   \n",
       "\n",
       "         Application Date License Issued Date License Expired Date  \n",
       "0 2012-09-19 16:01:19.647          2015-09-19           2016-09-19  \n",
       "1 2013-09-20 11:41:36.647          2014-09-20           2018-09-20  \n",
       "2 2014-09-12 13:13:36.713          2014-09-12           2019-09-12  \n",
       "3 2014-09-12 15:26:51.417          2014-09-12           2017-10-20  \n",
       "4 2014-09-12 15:43:17.707          2014-09-12           2019-09-12  "
      ]
     },
     "execution_count": 112,
     "metadata": {},
     "output_type": "execute_result"
    }
   ],
   "source": [
    "df = pd.read_excel('NYC_Dog_Licenses_Current_as_of_4-28-2016.xlsx', na_values= [\"Unknown\",\"UNKNOWN\",\"unknown\"])\n",
    "df.head(5)"
   ]
  },
  {
   "cell_type": "markdown",
   "metadata": {},
   "source": [
    "## How many rows do you have in the data? What are the column types?\n",
    "\n",
    "If there are more than 30,000 rows in your dataset, go back and only read in the first 30,000.\n",
    "\n",
    "* *Tip: there's an option with `.read_csv` to only read in a certain number of rows*"
   ]
  },
  {
   "cell_type": "code",
   "execution_count": 113,
   "metadata": {},
   "outputs": [
    {
     "data": {
      "text/plain": [
       "81937"
      ]
     },
     "execution_count": 113,
     "metadata": {},
     "output_type": "execute_result"
    }
   ],
   "source": [
    "len(df)"
   ]
  },
  {
   "cell_type": "code",
   "execution_count": 114,
   "metadata": {},
   "outputs": [
    {
     "data": {
      "text/plain": [
       "Owner Zip Code                     int64\n",
       "Animal Name                       object\n",
       "Animal Gender                     object\n",
       "Primary Breed                     object\n",
       "Secondary Breed                   object\n",
       "Animal Dominant Color             object\n",
       "Animal Secondary Color            object\n",
       "Animal Third Color                object\n",
       "Animal Birth              datetime64[ns]\n",
       "Spayed or Neut                    object\n",
       "Guard or Trained                  object\n",
       "Vaccinated                        object\n",
       "Application Date          datetime64[ns]\n",
       "License Issued Date       datetime64[ns]\n",
       "License Expired Date      datetime64[ns]\n",
       "dtype: object"
      ]
     },
     "execution_count": 114,
     "metadata": {},
     "output_type": "execute_result"
    }
   ],
   "source": [
    "df.dtypes"
   ]
  },
  {
   "cell_type": "markdown",
   "metadata": {},
   "source": [
    "## Describe the dataset in words. What is each row? List two column titles along with what each of those columns means.\n",
    "\n",
    "For example: “Each row is an animal in the zoo. `is_reptile` is whether the animal is a reptile or not”"
   ]
  },
  {
   "cell_type": "code",
   "execution_count": 115,
   "metadata": {},
   "outputs": [
    {
     "ename": "SyntaxError",
     "evalue": "invalid syntax (1885537260.py, line 1)",
     "output_type": "error",
     "traceback": [
      "\u001b[0;36m  Input \u001b[0;32mIn [115]\u001b[0;36m\u001b[0m\n\u001b[0;31m    Each row is a dog in the shelter\u001b[0m\n\u001b[0m         ^\u001b[0m\n\u001b[0;31mSyntaxError\u001b[0m\u001b[0;31m:\u001b[0m invalid syntax\n"
     ]
    }
   ],
   "source": [
    "Each row is a dog in the shelter"
   ]
  },
  {
   "cell_type": "markdown",
   "metadata": {},
   "source": [
    "# Your thoughts\n",
    "\n",
    "Think of four questions you could ask this dataset. **Don't ask them**, just write them down in the cell below. Feel free to use either Markdown or Python comments."
   ]
  },
  {
   "cell_type": "markdown",
   "metadata": {},
   "source": [
    "1) How many dogs were born in the last 3 years?\n",
    "2) What percentage of the animals are spayed and neutered?\n",
    "3) When do most of the animal's licenses expire? Is there a correlation with the type of breed it is?\n",
    "4) What is the ratio of male to female dogs?"
   ]
  },
  {
   "cell_type": "markdown",
   "metadata": {},
   "source": [
    "# Looking at some dogs"
   ]
  },
  {
   "cell_type": "markdown",
   "metadata": {},
   "source": [
    "## What are the most popular (primary) breeds of dogs? Graph the top 10."
   ]
  },
  {
   "cell_type": "code",
   "execution_count": null,
   "metadata": {},
   "outputs": [],
   "source": [
    "df['Primary Breed'].value_counts()"
   ]
  },
  {
   "cell_type": "code",
   "execution_count": null,
   "metadata": {},
   "outputs": [],
   "source": [
    "plt.style.use(\"ggplot\")"
   ]
  },
  {
   "cell_type": "code",
   "execution_count": null,
   "metadata": {},
   "outputs": [],
   "source": [
    "primaryBreed = df['Primary Breed'].head(10)\n",
    "primaryBreed"
   ]
  },
  {
   "cell_type": "code",
   "execution_count": null,
   "metadata": {},
   "outputs": [],
   "source": [
    "primaryBreed.value_counts().plot(kind='barh', x='name', y='length')"
   ]
  },
  {
   "cell_type": "markdown",
   "metadata": {},
   "source": [
    "## \"Unknown\" is a terrible breed! Graph the top 10 breeds that are NOT Unknown\n",
    "\n",
    "* *Tip: Maybe you want to go back to your `.read_csv` and use `na_values=`? Maybe not? Up to you!*"
   ]
  },
  {
   "cell_type": "code",
   "execution_count": null,
   "metadata": {},
   "outputs": [],
   "source": [
    "primaryBreed.value_counts().plot(kind='barh', x='name', y='length')"
   ]
  },
  {
   "cell_type": "code",
   "execution_count": null,
   "metadata": {},
   "outputs": [],
   "source": []
  },
  {
   "cell_type": "markdown",
   "metadata": {},
   "source": [
    "## What are the most popular dog names?"
   ]
  },
  {
   "cell_type": "code",
   "execution_count": 116,
   "metadata": {},
   "outputs": [
    {
     "data": {
      "text/plain": [
       "Bella      527\n",
       "Max        515\n",
       "Charlie    403\n",
       "Lola       387\n",
       "Rocky      354\n",
       "Lucy       338\n",
       "Coco       308\n",
       "Buddy      300\n",
       "Lucky      291\n",
       "Daisy      279\n",
       "Name: Animal Name, dtype: int64"
      ]
     },
     "execution_count": 116,
     "metadata": {},
     "output_type": "execute_result"
    }
   ],
   "source": [
    "df['Animal Name'].value_counts().head(10)"
   ]
  },
  {
   "cell_type": "markdown",
   "metadata": {},
   "source": [
    "## Do any dogs have your name? How many dogs are named \"Max,\" and how many are named \"Maxwell\"?"
   ]
  },
  {
   "cell_type": "code",
   "execution_count": 129,
   "metadata": {},
   "outputs": [
    {
     "data": {
      "text/plain": [
       "0            BLUE MACK\n",
       "1         Indie Zephir\n",
       "2                Bilal\n",
       "3                Buddy\n",
       "4                  Ali\n",
       "             ...      \n",
       "81932    Cheeseburger \n",
       "81933             Jack\n",
       "81934          Petunia\n",
       "81935              Max\n",
       "81936           Sirius\n",
       "Name: Animal Name, Length: 81937, dtype: object"
      ]
     },
     "execution_count": 129,
     "metadata": {},
     "output_type": "execute_result"
    }
   ],
   "source": [
    "df['Animal Name'].astype(str)"
   ]
  },
  {
   "cell_type": "code",
   "execution_count": 131,
   "metadata": {},
   "outputs": [
    {
     "ename": "NotImplementedError",
     "evalue": "cannot evaluate scalar only bool ops",
     "output_type": "error",
     "traceback": [
      "\u001b[0;31m---------------------------------------------------------------------------\u001b[0m",
      "\u001b[0;31mNotImplementedError\u001b[0m                       Traceback (most recent call last)",
      "Input \u001b[0;32mIn [131]\u001b[0m, in \u001b[0;36m<cell line: 1>\u001b[0;34m()\u001b[0m\n\u001b[0;32m----> 1\u001b[0m \u001b[43mdf\u001b[49m\u001b[38;5;241;43m.\u001b[39;49m\u001b[43mquery\u001b[49m\u001b[43m(\u001b[49m\u001b[38;5;124;43m\"\u001b[39;49m\u001b[38;5;124;43m'\u001b[39;49m\u001b[38;5;124;43mAnimal Name\u001b[39;49m\u001b[38;5;124;43m'\u001b[39;49m\u001b[38;5;124;43m == \u001b[39;49m\u001b[38;5;124;43m'\u001b[39;49m\u001b[38;5;124;43mMax\u001b[39;49m\u001b[38;5;124;43m'\u001b[39;49m\u001b[38;5;124;43m | \u001b[39;49m\u001b[38;5;124;43m'\u001b[39;49m\u001b[38;5;124;43mMaxwell\u001b[39;49m\u001b[38;5;124;43m'\u001b[39;49m\u001b[38;5;124;43m\"\u001b[39;49m\u001b[43m)\u001b[49m\n",
      "File \u001b[0;32m~/.pyenv/versions/3.10.3/lib/python3.10/site-packages/pandas/core/frame.py:4111\u001b[0m, in \u001b[0;36mDataFrame.query\u001b[0;34m(self, expr, inplace, **kwargs)\u001b[0m\n\u001b[1;32m   4109\u001b[0m kwargs[\u001b[38;5;124m\"\u001b[39m\u001b[38;5;124mlevel\u001b[39m\u001b[38;5;124m\"\u001b[39m] \u001b[38;5;241m=\u001b[39m kwargs\u001b[38;5;241m.\u001b[39mpop(\u001b[38;5;124m\"\u001b[39m\u001b[38;5;124mlevel\u001b[39m\u001b[38;5;124m\"\u001b[39m, \u001b[38;5;241m0\u001b[39m) \u001b[38;5;241m+\u001b[39m \u001b[38;5;241m1\u001b[39m\n\u001b[1;32m   4110\u001b[0m kwargs[\u001b[38;5;124m\"\u001b[39m\u001b[38;5;124mtarget\u001b[39m\u001b[38;5;124m\"\u001b[39m] \u001b[38;5;241m=\u001b[39m \u001b[38;5;28;01mNone\u001b[39;00m\n\u001b[0;32m-> 4111\u001b[0m res \u001b[38;5;241m=\u001b[39m \u001b[38;5;28;43mself\u001b[39;49m\u001b[38;5;241;43m.\u001b[39;49m\u001b[43meval\u001b[49m\u001b[43m(\u001b[49m\u001b[43mexpr\u001b[49m\u001b[43m,\u001b[49m\u001b[43m \u001b[49m\u001b[38;5;241;43m*\u001b[39;49m\u001b[38;5;241;43m*\u001b[39;49m\u001b[43mkwargs\u001b[49m\u001b[43m)\u001b[49m\n\u001b[1;32m   4113\u001b[0m \u001b[38;5;28;01mtry\u001b[39;00m:\n\u001b[1;32m   4114\u001b[0m     result \u001b[38;5;241m=\u001b[39m \u001b[38;5;28mself\u001b[39m\u001b[38;5;241m.\u001b[39mloc[res]\n",
      "File \u001b[0;32m~/.pyenv/versions/3.10.3/lib/python3.10/site-packages/pandas/core/frame.py:4240\u001b[0m, in \u001b[0;36mDataFrame.eval\u001b[0;34m(self, expr, inplace, **kwargs)\u001b[0m\n\u001b[1;32m   4237\u001b[0m     kwargs[\u001b[38;5;124m\"\u001b[39m\u001b[38;5;124mtarget\u001b[39m\u001b[38;5;124m\"\u001b[39m] \u001b[38;5;241m=\u001b[39m \u001b[38;5;28mself\u001b[39m\n\u001b[1;32m   4238\u001b[0m kwargs[\u001b[38;5;124m\"\u001b[39m\u001b[38;5;124mresolvers\u001b[39m\u001b[38;5;124m\"\u001b[39m] \u001b[38;5;241m=\u001b[39m \u001b[38;5;28mtuple\u001b[39m(kwargs\u001b[38;5;241m.\u001b[39mget(\u001b[38;5;124m\"\u001b[39m\u001b[38;5;124mresolvers\u001b[39m\u001b[38;5;124m\"\u001b[39m, ())) \u001b[38;5;241m+\u001b[39m resolvers\n\u001b[0;32m-> 4240\u001b[0m \u001b[38;5;28;01mreturn\u001b[39;00m \u001b[43m_eval\u001b[49m\u001b[43m(\u001b[49m\u001b[43mexpr\u001b[49m\u001b[43m,\u001b[49m\u001b[43m \u001b[49m\u001b[43minplace\u001b[49m\u001b[38;5;241;43m=\u001b[39;49m\u001b[43minplace\u001b[49m\u001b[43m,\u001b[49m\u001b[43m \u001b[49m\u001b[38;5;241;43m*\u001b[39;49m\u001b[38;5;241;43m*\u001b[39;49m\u001b[43mkwargs\u001b[49m\u001b[43m)\u001b[49m\n",
      "File \u001b[0;32m~/.pyenv/versions/3.10.3/lib/python3.10/site-packages/pandas/core/computation/eval.py:350\u001b[0m, in \u001b[0;36meval\u001b[0;34m(expr, parser, engine, truediv, local_dict, global_dict, resolvers, level, target, inplace)\u001b[0m\n\u001b[1;32m    341\u001b[0m \u001b[38;5;66;03m# get our (possibly passed-in) scope\u001b[39;00m\n\u001b[1;32m    342\u001b[0m env \u001b[38;5;241m=\u001b[39m ensure_scope(\n\u001b[1;32m    343\u001b[0m     level \u001b[38;5;241m+\u001b[39m \u001b[38;5;241m1\u001b[39m,\n\u001b[1;32m    344\u001b[0m     global_dict\u001b[38;5;241m=\u001b[39mglobal_dict,\n\u001b[0;32m   (...)\u001b[0m\n\u001b[1;32m    347\u001b[0m     target\u001b[38;5;241m=\u001b[39mtarget,\n\u001b[1;32m    348\u001b[0m )\n\u001b[0;32m--> 350\u001b[0m parsed_expr \u001b[38;5;241m=\u001b[39m \u001b[43mExpr\u001b[49m\u001b[43m(\u001b[49m\u001b[43mexpr\u001b[49m\u001b[43m,\u001b[49m\u001b[43m \u001b[49m\u001b[43mengine\u001b[49m\u001b[38;5;241;43m=\u001b[39;49m\u001b[43mengine\u001b[49m\u001b[43m,\u001b[49m\u001b[43m \u001b[49m\u001b[43mparser\u001b[49m\u001b[38;5;241;43m=\u001b[39;49m\u001b[43mparser\u001b[49m\u001b[43m,\u001b[49m\u001b[43m \u001b[49m\u001b[43menv\u001b[49m\u001b[38;5;241;43m=\u001b[39;49m\u001b[43menv\u001b[49m\u001b[43m)\u001b[49m\n\u001b[1;32m    352\u001b[0m \u001b[38;5;66;03m# construct the engine and evaluate the parsed expression\u001b[39;00m\n\u001b[1;32m    353\u001b[0m eng \u001b[38;5;241m=\u001b[39m ENGINES[engine]\n",
      "File \u001b[0;32m~/.pyenv/versions/3.10.3/lib/python3.10/site-packages/pandas/core/computation/expr.py:811\u001b[0m, in \u001b[0;36mExpr.__init__\u001b[0;34m(self, expr, engine, parser, env, level)\u001b[0m\n\u001b[1;32m    809\u001b[0m \u001b[38;5;28mself\u001b[39m\u001b[38;5;241m.\u001b[39mparser \u001b[38;5;241m=\u001b[39m parser\n\u001b[1;32m    810\u001b[0m \u001b[38;5;28mself\u001b[39m\u001b[38;5;241m.\u001b[39m_visitor \u001b[38;5;241m=\u001b[39m PARSERS[parser](\u001b[38;5;28mself\u001b[39m\u001b[38;5;241m.\u001b[39menv, \u001b[38;5;28mself\u001b[39m\u001b[38;5;241m.\u001b[39mengine, \u001b[38;5;28mself\u001b[39m\u001b[38;5;241m.\u001b[39mparser)\n\u001b[0;32m--> 811\u001b[0m \u001b[38;5;28mself\u001b[39m\u001b[38;5;241m.\u001b[39mterms \u001b[38;5;241m=\u001b[39m \u001b[38;5;28;43mself\u001b[39;49m\u001b[38;5;241;43m.\u001b[39;49m\u001b[43mparse\u001b[49m\u001b[43m(\u001b[49m\u001b[43m)\u001b[49m\n",
      "File \u001b[0;32m~/.pyenv/versions/3.10.3/lib/python3.10/site-packages/pandas/core/computation/expr.py:830\u001b[0m, in \u001b[0;36mExpr.parse\u001b[0;34m(self)\u001b[0m\n\u001b[1;32m    826\u001b[0m \u001b[38;5;28;01mdef\u001b[39;00m \u001b[38;5;21mparse\u001b[39m(\u001b[38;5;28mself\u001b[39m):\n\u001b[1;32m    827\u001b[0m     \u001b[38;5;124;03m\"\"\"\u001b[39;00m\n\u001b[1;32m    828\u001b[0m \u001b[38;5;124;03m    Parse an expression.\u001b[39;00m\n\u001b[1;32m    829\u001b[0m \u001b[38;5;124;03m    \"\"\"\u001b[39;00m\n\u001b[0;32m--> 830\u001b[0m     \u001b[38;5;28;01mreturn\u001b[39;00m \u001b[38;5;28;43mself\u001b[39;49m\u001b[38;5;241;43m.\u001b[39;49m\u001b[43m_visitor\u001b[49m\u001b[38;5;241;43m.\u001b[39;49m\u001b[43mvisit\u001b[49m\u001b[43m(\u001b[49m\u001b[38;5;28;43mself\u001b[39;49m\u001b[38;5;241;43m.\u001b[39;49m\u001b[43mexpr\u001b[49m\u001b[43m)\u001b[49m\n",
      "File \u001b[0;32m~/.pyenv/versions/3.10.3/lib/python3.10/site-packages/pandas/core/computation/expr.py:415\u001b[0m, in \u001b[0;36mBaseExprVisitor.visit\u001b[0;34m(self, node, **kwargs)\u001b[0m\n\u001b[1;32m    413\u001b[0m method \u001b[38;5;241m=\u001b[39m \u001b[38;5;124m\"\u001b[39m\u001b[38;5;124mvisit_\u001b[39m\u001b[38;5;124m\"\u001b[39m \u001b[38;5;241m+\u001b[39m \u001b[38;5;28mtype\u001b[39m(node)\u001b[38;5;241m.\u001b[39m\u001b[38;5;18m__name__\u001b[39m\n\u001b[1;32m    414\u001b[0m visitor \u001b[38;5;241m=\u001b[39m \u001b[38;5;28mgetattr\u001b[39m(\u001b[38;5;28mself\u001b[39m, method)\n\u001b[0;32m--> 415\u001b[0m \u001b[38;5;28;01mreturn\u001b[39;00m \u001b[43mvisitor\u001b[49m\u001b[43m(\u001b[49m\u001b[43mnode\u001b[49m\u001b[43m,\u001b[49m\u001b[43m \u001b[49m\u001b[38;5;241;43m*\u001b[39;49m\u001b[38;5;241;43m*\u001b[39;49m\u001b[43mkwargs\u001b[49m\u001b[43m)\u001b[49m\n",
      "File \u001b[0;32m~/.pyenv/versions/3.10.3/lib/python3.10/site-packages/pandas/core/computation/expr.py:421\u001b[0m, in \u001b[0;36mBaseExprVisitor.visit_Module\u001b[0;34m(self, node, **kwargs)\u001b[0m\n\u001b[1;32m    419\u001b[0m     \u001b[38;5;28;01mraise\u001b[39;00m \u001b[38;5;167;01mSyntaxError\u001b[39;00m(\u001b[38;5;124m\"\u001b[39m\u001b[38;5;124monly a single expression is allowed\u001b[39m\u001b[38;5;124m\"\u001b[39m)\n\u001b[1;32m    420\u001b[0m expr \u001b[38;5;241m=\u001b[39m node\u001b[38;5;241m.\u001b[39mbody[\u001b[38;5;241m0\u001b[39m]\n\u001b[0;32m--> 421\u001b[0m \u001b[38;5;28;01mreturn\u001b[39;00m \u001b[38;5;28;43mself\u001b[39;49m\u001b[38;5;241;43m.\u001b[39;49m\u001b[43mvisit\u001b[49m\u001b[43m(\u001b[49m\u001b[43mexpr\u001b[49m\u001b[43m,\u001b[49m\u001b[43m \u001b[49m\u001b[38;5;241;43m*\u001b[39;49m\u001b[38;5;241;43m*\u001b[39;49m\u001b[43mkwargs\u001b[49m\u001b[43m)\u001b[49m\n",
      "File \u001b[0;32m~/.pyenv/versions/3.10.3/lib/python3.10/site-packages/pandas/core/computation/expr.py:415\u001b[0m, in \u001b[0;36mBaseExprVisitor.visit\u001b[0;34m(self, node, **kwargs)\u001b[0m\n\u001b[1;32m    413\u001b[0m method \u001b[38;5;241m=\u001b[39m \u001b[38;5;124m\"\u001b[39m\u001b[38;5;124mvisit_\u001b[39m\u001b[38;5;124m\"\u001b[39m \u001b[38;5;241m+\u001b[39m \u001b[38;5;28mtype\u001b[39m(node)\u001b[38;5;241m.\u001b[39m\u001b[38;5;18m__name__\u001b[39m\n\u001b[1;32m    414\u001b[0m visitor \u001b[38;5;241m=\u001b[39m \u001b[38;5;28mgetattr\u001b[39m(\u001b[38;5;28mself\u001b[39m, method)\n\u001b[0;32m--> 415\u001b[0m \u001b[38;5;28;01mreturn\u001b[39;00m \u001b[43mvisitor\u001b[49m\u001b[43m(\u001b[49m\u001b[43mnode\u001b[49m\u001b[43m,\u001b[49m\u001b[43m \u001b[49m\u001b[38;5;241;43m*\u001b[39;49m\u001b[38;5;241;43m*\u001b[39;49m\u001b[43mkwargs\u001b[49m\u001b[43m)\u001b[49m\n",
      "File \u001b[0;32m~/.pyenv/versions/3.10.3/lib/python3.10/site-packages/pandas/core/computation/expr.py:424\u001b[0m, in \u001b[0;36mBaseExprVisitor.visit_Expr\u001b[0;34m(self, node, **kwargs)\u001b[0m\n\u001b[1;32m    423\u001b[0m \u001b[38;5;28;01mdef\u001b[39;00m \u001b[38;5;21mvisit_Expr\u001b[39m(\u001b[38;5;28mself\u001b[39m, node, \u001b[38;5;241m*\u001b[39m\u001b[38;5;241m*\u001b[39mkwargs):\n\u001b[0;32m--> 424\u001b[0m     \u001b[38;5;28;01mreturn\u001b[39;00m \u001b[38;5;28;43mself\u001b[39;49m\u001b[38;5;241;43m.\u001b[39;49m\u001b[43mvisit\u001b[49m\u001b[43m(\u001b[49m\u001b[43mnode\u001b[49m\u001b[38;5;241;43m.\u001b[39;49m\u001b[43mvalue\u001b[49m\u001b[43m,\u001b[49m\u001b[43m \u001b[49m\u001b[38;5;241;43m*\u001b[39;49m\u001b[38;5;241;43m*\u001b[39;49m\u001b[43mkwargs\u001b[49m\u001b[43m)\u001b[49m\n",
      "File \u001b[0;32m~/.pyenv/versions/3.10.3/lib/python3.10/site-packages/pandas/core/computation/expr.py:415\u001b[0m, in \u001b[0;36mBaseExprVisitor.visit\u001b[0;34m(self, node, **kwargs)\u001b[0m\n\u001b[1;32m    413\u001b[0m method \u001b[38;5;241m=\u001b[39m \u001b[38;5;124m\"\u001b[39m\u001b[38;5;124mvisit_\u001b[39m\u001b[38;5;124m\"\u001b[39m \u001b[38;5;241m+\u001b[39m \u001b[38;5;28mtype\u001b[39m(node)\u001b[38;5;241m.\u001b[39m\u001b[38;5;18m__name__\u001b[39m\n\u001b[1;32m    414\u001b[0m visitor \u001b[38;5;241m=\u001b[39m \u001b[38;5;28mgetattr\u001b[39m(\u001b[38;5;28mself\u001b[39m, method)\n\u001b[0;32m--> 415\u001b[0m \u001b[38;5;28;01mreturn\u001b[39;00m \u001b[43mvisitor\u001b[49m\u001b[43m(\u001b[49m\u001b[43mnode\u001b[49m\u001b[43m,\u001b[49m\u001b[43m \u001b[49m\u001b[38;5;241;43m*\u001b[39;49m\u001b[38;5;241;43m*\u001b[39;49m\u001b[43mkwargs\u001b[49m\u001b[43m)\u001b[49m\n",
      "File \u001b[0;32m~/.pyenv/versions/3.10.3/lib/python3.10/site-packages/pandas/core/computation/expr.py:750\u001b[0m, in \u001b[0;36mBaseExprVisitor.visit_BoolOp\u001b[0;34m(self, node, **kwargs)\u001b[0m\n\u001b[1;32m    747\u001b[0m     \u001b[38;5;28;01mreturn\u001b[39;00m \u001b[38;5;28mself\u001b[39m\u001b[38;5;241m.\u001b[39m_maybe_evaluate_binop(op, node\u001b[38;5;241m.\u001b[39mop, lhs, rhs)\n\u001b[1;32m    749\u001b[0m operands \u001b[38;5;241m=\u001b[39m node\u001b[38;5;241m.\u001b[39mvalues\n\u001b[0;32m--> 750\u001b[0m \u001b[38;5;28;01mreturn\u001b[39;00m \u001b[43mreduce\u001b[49m\u001b[43m(\u001b[49m\u001b[43mvisitor\u001b[49m\u001b[43m,\u001b[49m\u001b[43m \u001b[49m\u001b[43moperands\u001b[49m\u001b[43m)\u001b[49m\n",
      "File \u001b[0;32m~/.pyenv/versions/3.10.3/lib/python3.10/site-packages/pandas/core/computation/expr.py:747\u001b[0m, in \u001b[0;36mBaseExprVisitor.visit_BoolOp.<locals>.visitor\u001b[0;34m(x, y)\u001b[0m\n\u001b[1;32m    744\u001b[0m rhs \u001b[38;5;241m=\u001b[39m \u001b[38;5;28mself\u001b[39m\u001b[38;5;241m.\u001b[39m_try_visit_binop(y)\n\u001b[1;32m    746\u001b[0m op, op_class, lhs, rhs \u001b[38;5;241m=\u001b[39m \u001b[38;5;28mself\u001b[39m\u001b[38;5;241m.\u001b[39m_maybe_transform_eq_ne(node, lhs, rhs)\n\u001b[0;32m--> 747\u001b[0m \u001b[38;5;28;01mreturn\u001b[39;00m \u001b[38;5;28;43mself\u001b[39;49m\u001b[38;5;241;43m.\u001b[39;49m\u001b[43m_maybe_evaluate_binop\u001b[49m\u001b[43m(\u001b[49m\u001b[43mop\u001b[49m\u001b[43m,\u001b[49m\u001b[43m \u001b[49m\u001b[43mnode\u001b[49m\u001b[38;5;241;43m.\u001b[39;49m\u001b[43mop\u001b[49m\u001b[43m,\u001b[49m\u001b[43m \u001b[49m\u001b[43mlhs\u001b[49m\u001b[43m,\u001b[49m\u001b[43m \u001b[49m\u001b[43mrhs\u001b[49m\u001b[43m)\u001b[49m\n",
      "File \u001b[0;32m~/.pyenv/versions/3.10.3/lib/python3.10/site-packages/pandas/core/computation/expr.py:505\u001b[0m, in \u001b[0;36mBaseExprVisitor._maybe_evaluate_binop\u001b[0;34m(self, op, op_class, lhs, rhs, eval_in_python, maybe_eval_in_python)\u001b[0m\n\u001b[1;32m    496\u001b[0m \u001b[38;5;28;01mdef\u001b[39;00m \u001b[38;5;21m_maybe_evaluate_binop\u001b[39m(\n\u001b[1;32m    497\u001b[0m     \u001b[38;5;28mself\u001b[39m,\n\u001b[1;32m    498\u001b[0m     op,\n\u001b[0;32m   (...)\u001b[0m\n\u001b[1;32m    503\u001b[0m     maybe_eval_in_python\u001b[38;5;241m=\u001b[39m(\u001b[38;5;124m\"\u001b[39m\u001b[38;5;124m==\u001b[39m\u001b[38;5;124m\"\u001b[39m, \u001b[38;5;124m\"\u001b[39m\u001b[38;5;124m!=\u001b[39m\u001b[38;5;124m\"\u001b[39m, \u001b[38;5;124m\"\u001b[39m\u001b[38;5;124m<\u001b[39m\u001b[38;5;124m\"\u001b[39m, \u001b[38;5;124m\"\u001b[39m\u001b[38;5;124m>\u001b[39m\u001b[38;5;124m\"\u001b[39m, \u001b[38;5;124m\"\u001b[39m\u001b[38;5;124m<=\u001b[39m\u001b[38;5;124m\"\u001b[39m, \u001b[38;5;124m\"\u001b[39m\u001b[38;5;124m>=\u001b[39m\u001b[38;5;124m\"\u001b[39m),\n\u001b[1;32m    504\u001b[0m ):\n\u001b[0;32m--> 505\u001b[0m     res \u001b[38;5;241m=\u001b[39m \u001b[43mop\u001b[49m\u001b[43m(\u001b[49m\u001b[43mlhs\u001b[49m\u001b[43m,\u001b[49m\u001b[43m \u001b[49m\u001b[43mrhs\u001b[49m\u001b[43m)\u001b[49m\n\u001b[1;32m    507\u001b[0m     \u001b[38;5;28;01mif\u001b[39;00m res\u001b[38;5;241m.\u001b[39mhas_invalid_return_type:\n\u001b[1;32m    508\u001b[0m         \u001b[38;5;28;01mraise\u001b[39;00m \u001b[38;5;167;01mTypeError\u001b[39;00m(\n\u001b[1;32m    509\u001b[0m             \u001b[38;5;124mf\u001b[39m\u001b[38;5;124m\"\u001b[39m\u001b[38;5;124munsupported operand type(s) for \u001b[39m\u001b[38;5;132;01m{\u001b[39;00mres\u001b[38;5;241m.\u001b[39mop\u001b[38;5;132;01m}\u001b[39;00m\u001b[38;5;124m: \u001b[39m\u001b[38;5;124m\"\u001b[39m\n\u001b[1;32m    510\u001b[0m             \u001b[38;5;124mf\u001b[39m\u001b[38;5;124m\"\u001b[39m\u001b[38;5;124m'\u001b[39m\u001b[38;5;132;01m{\u001b[39;00mlhs\u001b[38;5;241m.\u001b[39mtype\u001b[38;5;132;01m}\u001b[39;00m\u001b[38;5;124m'\u001b[39m\u001b[38;5;124m and \u001b[39m\u001b[38;5;124m'\u001b[39m\u001b[38;5;132;01m{\u001b[39;00mrhs\u001b[38;5;241m.\u001b[39mtype\u001b[38;5;132;01m}\u001b[39;00m\u001b[38;5;124m'\u001b[39m\u001b[38;5;124m\"\u001b[39m\n\u001b[1;32m    511\u001b[0m         )\n",
      "File \u001b[0;32m~/.pyenv/versions/3.10.3/lib/python3.10/site-packages/pandas/core/computation/ops.py:383\u001b[0m, in \u001b[0;36mBinOp.__init__\u001b[0;34m(self, op, lhs, rhs)\u001b[0m\n\u001b[1;32m    380\u001b[0m \u001b[38;5;28mself\u001b[39m\u001b[38;5;241m.\u001b[39mlhs \u001b[38;5;241m=\u001b[39m lhs\n\u001b[1;32m    381\u001b[0m \u001b[38;5;28mself\u001b[39m\u001b[38;5;241m.\u001b[39mrhs \u001b[38;5;241m=\u001b[39m rhs\n\u001b[0;32m--> 383\u001b[0m \u001b[38;5;28;43mself\u001b[39;49m\u001b[38;5;241;43m.\u001b[39;49m\u001b[43m_disallow_scalar_only_bool_ops\u001b[49m\u001b[43m(\u001b[49m\u001b[43m)\u001b[49m\n\u001b[1;32m    385\u001b[0m \u001b[38;5;28mself\u001b[39m\u001b[38;5;241m.\u001b[39mconvert_values()\n\u001b[1;32m    387\u001b[0m \u001b[38;5;28;01mtry\u001b[39;00m:\n",
      "File \u001b[0;32m~/.pyenv/versions/3.10.3/lib/python3.10/site-packages/pandas/core/computation/ops.py:516\u001b[0m, in \u001b[0;36mBinOp._disallow_scalar_only_bool_ops\u001b[0;34m(self)\u001b[0m\n\u001b[1;32m    505\u001b[0m lhs_rt \u001b[38;5;241m=\u001b[39m \u001b[38;5;28mgetattr\u001b[39m(lhs_rt, \u001b[38;5;124m\"\u001b[39m\u001b[38;5;124mtype\u001b[39m\u001b[38;5;124m\"\u001b[39m, lhs_rt)\n\u001b[1;32m    506\u001b[0m \u001b[38;5;28;01mif\u001b[39;00m (\n\u001b[1;32m    507\u001b[0m     (lhs\u001b[38;5;241m.\u001b[39mis_scalar \u001b[38;5;129;01mor\u001b[39;00m rhs\u001b[38;5;241m.\u001b[39mis_scalar)\n\u001b[1;32m    508\u001b[0m     \u001b[38;5;129;01mand\u001b[39;00m \u001b[38;5;28mself\u001b[39m\u001b[38;5;241m.\u001b[39mop \u001b[38;5;129;01min\u001b[39;00m _bool_ops_dict\n\u001b[0;32m   (...)\u001b[0m\n\u001b[1;32m    514\u001b[0m     )\n\u001b[1;32m    515\u001b[0m ):\n\u001b[0;32m--> 516\u001b[0m     \u001b[38;5;28;01mraise\u001b[39;00m \u001b[38;5;167;01mNotImplementedError\u001b[39;00m(\u001b[38;5;124m\"\u001b[39m\u001b[38;5;124mcannot evaluate scalar only bool ops\u001b[39m\u001b[38;5;124m\"\u001b[39m)\n",
      "\u001b[0;31mNotImplementedError\u001b[0m: cannot evaluate scalar only bool ops"
     ]
    }
   ],
   "source": [
    "df.query(\"'Animal Name' == 'Max' | 'Maxwell'\")"
   ]
  },
  {
   "cell_type": "markdown",
   "metadata": {},
   "source": [
    "## What percentage of dogs are guard dogs?"
   ]
  },
  {
   "cell_type": "markdown",
   "metadata": {},
   "source": [
    "## What percentage of dogs are guard dogs?"
   ]
  },
  {
   "cell_type": "code",
   "execution_count": 132,
   "metadata": {},
   "outputs": [
    {
     "data": {
      "text/html": [
       "<div>\n",
       "<style scoped>\n",
       "    .dataframe tbody tr th:only-of-type {\n",
       "        vertical-align: middle;\n",
       "    }\n",
       "\n",
       "    .dataframe tbody tr th {\n",
       "        vertical-align: top;\n",
       "    }\n",
       "\n",
       "    .dataframe thead th {\n",
       "        text-align: right;\n",
       "    }\n",
       "</style>\n",
       "<table border=\"1\" class=\"dataframe\">\n",
       "  <thead>\n",
       "    <tr style=\"text-align: right;\">\n",
       "      <th></th>\n",
       "      <th>Owner Zip Code</th>\n",
       "      <th>Animal Name</th>\n",
       "      <th>Animal Gender</th>\n",
       "      <th>Primary Breed</th>\n",
       "      <th>Secondary Breed</th>\n",
       "      <th>Animal Dominant Color</th>\n",
       "      <th>Animal Secondary Color</th>\n",
       "      <th>Animal Third Color</th>\n",
       "      <th>Animal Birth</th>\n",
       "      <th>Spayed or Neut</th>\n",
       "      <th>Guard or Trained</th>\n",
       "      <th>Vaccinated</th>\n",
       "      <th>Application Date</th>\n",
       "      <th>License Issued Date</th>\n",
       "      <th>License Expired Date</th>\n",
       "    </tr>\n",
       "  </thead>\n",
       "  <tbody>\n",
       "    <tr>\n",
       "      <th>0</th>\n",
       "      <td>10024</td>\n",
       "      <td>BLUE MACK</td>\n",
       "      <td>M</td>\n",
       "      <td>NaN</td>\n",
       "      <td>AIREDALE TERR</td>\n",
       "      <td>BROWN</td>\n",
       "      <td>BLACK</td>\n",
       "      <td>NaN</td>\n",
       "      <td>2007-11-01</td>\n",
       "      <td>Yes</td>\n",
       "      <td>No</td>\n",
       "      <td>Yes</td>\n",
       "      <td>2012-09-19 16:01:19.647</td>\n",
       "      <td>2015-09-19</td>\n",
       "      <td>2016-09-19</td>\n",
       "    </tr>\n",
       "    <tr>\n",
       "      <th>1</th>\n",
       "      <td>10461</td>\n",
       "      <td>Indie Zephir</td>\n",
       "      <td>M</td>\n",
       "      <td>Rottweiler</td>\n",
       "      <td>NaN</td>\n",
       "      <td>BLACK</td>\n",
       "      <td>TAN</td>\n",
       "      <td>NaN</td>\n",
       "      <td>2013-04-01</td>\n",
       "      <td>No</td>\n",
       "      <td>No</td>\n",
       "      <td>Yes</td>\n",
       "      <td>2013-09-20 11:41:36.647</td>\n",
       "      <td>2014-09-20</td>\n",
       "      <td>2018-09-20</td>\n",
       "    </tr>\n",
       "    <tr>\n",
       "      <th>2</th>\n",
       "      <td>10013</td>\n",
       "      <td>Bilal</td>\n",
       "      <td>M</td>\n",
       "      <td>Australian Cattledog</td>\n",
       "      <td>NaN</td>\n",
       "      <td>Rust</td>\n",
       "      <td>NaN</td>\n",
       "      <td>NaN</td>\n",
       "      <td>2014-09-01</td>\n",
       "      <td>Yes</td>\n",
       "      <td>NaN</td>\n",
       "      <td>No</td>\n",
       "      <td>2014-09-12 13:13:36.713</td>\n",
       "      <td>2014-09-12</td>\n",
       "      <td>2019-09-12</td>\n",
       "    </tr>\n",
       "    <tr>\n",
       "      <th>3</th>\n",
       "      <td>10025</td>\n",
       "      <td>Buddy</td>\n",
       "      <td>M</td>\n",
       "      <td>NaN</td>\n",
       "      <td>Cockapoo</td>\n",
       "      <td>BLOND</td>\n",
       "      <td>WHITE</td>\n",
       "      <td>NaN</td>\n",
       "      <td>2008-04-01</td>\n",
       "      <td>Yes</td>\n",
       "      <td>No</td>\n",
       "      <td>Yes</td>\n",
       "      <td>2014-09-12 15:26:51.417</td>\n",
       "      <td>2014-09-12</td>\n",
       "      <td>2017-10-20</td>\n",
       "    </tr>\n",
       "    <tr>\n",
       "      <th>4</th>\n",
       "      <td>10013</td>\n",
       "      <td>Ali</td>\n",
       "      <td>M</td>\n",
       "      <td>Basenji</td>\n",
       "      <td>NaN</td>\n",
       "      <td>Black</td>\n",
       "      <td>NaN</td>\n",
       "      <td>NaN</td>\n",
       "      <td>2014-01-01</td>\n",
       "      <td>No</td>\n",
       "      <td>NaN</td>\n",
       "      <td>No</td>\n",
       "      <td>2014-09-12 15:43:17.707</td>\n",
       "      <td>2014-09-12</td>\n",
       "      <td>2019-09-12</td>\n",
       "    </tr>\n",
       "    <tr>\n",
       "      <th>...</th>\n",
       "      <td>...</td>\n",
       "      <td>...</td>\n",
       "      <td>...</td>\n",
       "      <td>...</td>\n",
       "      <td>...</td>\n",
       "      <td>...</td>\n",
       "      <td>...</td>\n",
       "      <td>...</td>\n",
       "      <td>...</td>\n",
       "      <td>...</td>\n",
       "      <td>...</td>\n",
       "      <td>...</td>\n",
       "      <td>...</td>\n",
       "      <td>...</td>\n",
       "      <td>...</td>\n",
       "    </tr>\n",
       "    <tr>\n",
       "      <th>81932</th>\n",
       "      <td>10001</td>\n",
       "      <td>Cheeseburger</td>\n",
       "      <td>M</td>\n",
       "      <td>Pug</td>\n",
       "      <td>NaN</td>\n",
       "      <td>Fawn</td>\n",
       "      <td>NaN</td>\n",
       "      <td>NaN</td>\n",
       "      <td>2013-01-01</td>\n",
       "      <td>Yes</td>\n",
       "      <td>NaN</td>\n",
       "      <td>Yes</td>\n",
       "      <td>2016-04-28 15:11:18.533</td>\n",
       "      <td>2016-04-28</td>\n",
       "      <td>2017-04-28</td>\n",
       "    </tr>\n",
       "    <tr>\n",
       "      <th>81933</th>\n",
       "      <td>10021</td>\n",
       "      <td>Jack</td>\n",
       "      <td>M</td>\n",
       "      <td>NaN</td>\n",
       "      <td>NaN</td>\n",
       "      <td>Cream</td>\n",
       "      <td>NaN</td>\n",
       "      <td>NaN</td>\n",
       "      <td>2015-07-01</td>\n",
       "      <td>Yes</td>\n",
       "      <td>NaN</td>\n",
       "      <td>Yes</td>\n",
       "      <td>2016-04-28 15:12:22.150</td>\n",
       "      <td>2016-04-28</td>\n",
       "      <td>2017-04-28</td>\n",
       "    </tr>\n",
       "    <tr>\n",
       "      <th>81934</th>\n",
       "      <td>10032</td>\n",
       "      <td>Petunia</td>\n",
       "      <td>F</td>\n",
       "      <td>Lhasa Apso</td>\n",
       "      <td>NaN</td>\n",
       "      <td>GOLD</td>\n",
       "      <td>BLACK</td>\n",
       "      <td>WHITE</td>\n",
       "      <td>2009-11-01</td>\n",
       "      <td>Yes</td>\n",
       "      <td>No</td>\n",
       "      <td>Yes</td>\n",
       "      <td>2016-04-28 15:18:14.240</td>\n",
       "      <td>2016-04-28</td>\n",
       "      <td>2018-02-18</td>\n",
       "    </tr>\n",
       "    <tr>\n",
       "      <th>81935</th>\n",
       "      <td>10310</td>\n",
       "      <td>Max</td>\n",
       "      <td>M</td>\n",
       "      <td>Cocker Spaniel</td>\n",
       "      <td>NaN</td>\n",
       "      <td>WHITE</td>\n",
       "      <td>BROWN</td>\n",
       "      <td>NaN</td>\n",
       "      <td>2006-04-01</td>\n",
       "      <td>Yes</td>\n",
       "      <td>No</td>\n",
       "      <td>Yes</td>\n",
       "      <td>2016-04-28 15:18:44.520</td>\n",
       "      <td>2016-04-28</td>\n",
       "      <td>2017-06-19</td>\n",
       "    </tr>\n",
       "    <tr>\n",
       "      <th>81936</th>\n",
       "      <td>10016</td>\n",
       "      <td>Sirius</td>\n",
       "      <td>F</td>\n",
       "      <td>German Shepherd Crossbreed</td>\n",
       "      <td>NaN</td>\n",
       "      <td>BROWN</td>\n",
       "      <td>TAN</td>\n",
       "      <td>BLACK</td>\n",
       "      <td>2000-12-01</td>\n",
       "      <td>Yes</td>\n",
       "      <td>No</td>\n",
       "      <td>Yes</td>\n",
       "      <td>2016-04-28 15:19:47.843</td>\n",
       "      <td>2016-04-28</td>\n",
       "      <td>2017-06-25</td>\n",
       "    </tr>\n",
       "  </tbody>\n",
       "</table>\n",
       "<p>81937 rows × 15 columns</p>\n",
       "</div>"
      ],
      "text/plain": [
       "       Owner Zip Code    Animal Name Animal Gender  \\\n",
       "0               10024      BLUE MACK             M   \n",
       "1               10461   Indie Zephir             M   \n",
       "2               10013          Bilal             M   \n",
       "3               10025          Buddy             M   \n",
       "4               10013            Ali             M   \n",
       "...               ...            ...           ...   \n",
       "81932           10001  Cheeseburger              M   \n",
       "81933           10021           Jack             M   \n",
       "81934           10032        Petunia             F   \n",
       "81935           10310            Max             M   \n",
       "81936           10016         Sirius             F   \n",
       "\n",
       "                    Primary Breed Secondary Breed Animal Dominant Color  \\\n",
       "0                             NaN   AIREDALE TERR                 BROWN   \n",
       "1                      Rottweiler             NaN                 BLACK   \n",
       "2            Australian Cattledog             NaN                  Rust   \n",
       "3                             NaN        Cockapoo                 BLOND   \n",
       "4                         Basenji             NaN                 Black   \n",
       "...                           ...             ...                   ...   \n",
       "81932                         Pug             NaN                  Fawn   \n",
       "81933                         NaN             NaN                 Cream   \n",
       "81934                  Lhasa Apso             NaN                  GOLD   \n",
       "81935              Cocker Spaniel             NaN                 WHITE   \n",
       "81936  German Shepherd Crossbreed             NaN                 BROWN   \n",
       "\n",
       "      Animal Secondary Color Animal Third Color Animal Birth Spayed or Neut  \\\n",
       "0                      BLACK                NaN   2007-11-01            Yes   \n",
       "1                        TAN                NaN   2013-04-01             No   \n",
       "2                        NaN                NaN   2014-09-01            Yes   \n",
       "3                      WHITE                NaN   2008-04-01            Yes   \n",
       "4                        NaN                NaN   2014-01-01             No   \n",
       "...                      ...                ...          ...            ...   \n",
       "81932                    NaN                NaN   2013-01-01            Yes   \n",
       "81933                    NaN                NaN   2015-07-01            Yes   \n",
       "81934                  BLACK              WHITE   2009-11-01            Yes   \n",
       "81935                  BROWN                NaN   2006-04-01            Yes   \n",
       "81936                    TAN              BLACK   2000-12-01            Yes   \n",
       "\n",
       "      Guard or Trained Vaccinated        Application Date License Issued Date  \\\n",
       "0                   No        Yes 2012-09-19 16:01:19.647          2015-09-19   \n",
       "1                   No        Yes 2013-09-20 11:41:36.647          2014-09-20   \n",
       "2                  NaN         No 2014-09-12 13:13:36.713          2014-09-12   \n",
       "3                   No        Yes 2014-09-12 15:26:51.417          2014-09-12   \n",
       "4                  NaN         No 2014-09-12 15:43:17.707          2014-09-12   \n",
       "...                ...        ...                     ...                 ...   \n",
       "81932              NaN        Yes 2016-04-28 15:11:18.533          2016-04-28   \n",
       "81933              NaN        Yes 2016-04-28 15:12:22.150          2016-04-28   \n",
       "81934               No        Yes 2016-04-28 15:18:14.240          2016-04-28   \n",
       "81935               No        Yes 2016-04-28 15:18:44.520          2016-04-28   \n",
       "81936               No        Yes 2016-04-28 15:19:47.843          2016-04-28   \n",
       "\n",
       "      License Expired Date  \n",
       "0               2016-09-19  \n",
       "1               2018-09-20  \n",
       "2               2019-09-12  \n",
       "3               2017-10-20  \n",
       "4               2019-09-12  \n",
       "...                    ...  \n",
       "81932           2017-04-28  \n",
       "81933           2017-04-28  \n",
       "81934           2018-02-18  \n",
       "81935           2017-06-19  \n",
       "81936           2017-06-25  \n",
       "\n",
       "[81937 rows x 15 columns]"
      ]
     },
     "execution_count": 132,
     "metadata": {},
     "output_type": "execute_result"
    }
   ],
   "source": []
  },
  {
   "cell_type": "markdown",
   "metadata": {},
   "source": [
    "## What are the actual numbers?"
   ]
  },
  {
   "cell_type": "code",
   "execution_count": null,
   "metadata": {},
   "outputs": [],
   "source": []
  },
  {
   "cell_type": "markdown",
   "metadata": {},
   "source": [
    "## Wait... if you add that up, is it the same as your number of rows? Where are the other dogs???? How can we find them??????\n",
    "\n",
    "Use your `.head()` to think about it, then you'll do some magic with `.value_counts()`. Think about missing data!"
   ]
  },
  {
   "cell_type": "code",
   "execution_count": null,
   "metadata": {},
   "outputs": [],
   "source": []
  },
  {
   "cell_type": "markdown",
   "metadata": {},
   "source": [
    "## Maybe fill in all of those empty \"Guard or Trained\" columns with \"No\"? Or as `NaN`? \n",
    "\n",
    "Can we make an assumption either way? Then check your result with another `.value_counts()`"
   ]
  },
  {
   "cell_type": "code",
   "execution_count": null,
   "metadata": {},
   "outputs": [],
   "source": []
  },
  {
   "cell_type": "markdown",
   "metadata": {},
   "source": [
    "## What are the top dog breeds for guard dogs? "
   ]
  },
  {
   "cell_type": "code",
   "execution_count": null,
   "metadata": {},
   "outputs": [],
   "source": []
  },
  {
   "cell_type": "markdown",
   "metadata": {},
   "source": [
    "## Create a new column called \"year\" that is the dog's year of birth\n",
    "\n",
    "The `Animal Birth` column is a datetime, so you can get the year out of it with the code `df['Animal Birth'].apply(lambda birth: birth.year)`."
   ]
  },
  {
   "cell_type": "code",
   "execution_count": null,
   "metadata": {},
   "outputs": [],
   "source": []
  },
  {
   "cell_type": "markdown",
   "metadata": {},
   "source": [
    "## Calculate a new column called “age” that shows approximately how old the dog is. How old are dogs on average?"
   ]
  },
  {
   "cell_type": "code",
   "execution_count": null,
   "metadata": {},
   "outputs": [],
   "source": []
  },
  {
   "cell_type": "markdown",
   "metadata": {},
   "source": [
    "# Joining data together"
   ]
  },
  {
   "cell_type": "code",
   "execution_count": null,
   "metadata": {},
   "outputs": [],
   "source": []
  },
  {
   "cell_type": "markdown",
   "metadata": {},
   "source": [
    "## Which neighborhood does each dog live in?\n",
    "\n",
    "You also have a (terrible) list of NYC neighborhoods in `zipcodes-neighborhoods.csv`. Join these two datasets together, so we know what neighborhood each dog lives in. **Be sure to not read it in as `df`, or else you'll overwrite your dogs dataframe.**"
   ]
  },
  {
   "cell_type": "code",
   "execution_count": null,
   "metadata": {},
   "outputs": [],
   "source": []
  },
  {
   "cell_type": "markdown",
   "metadata": {},
   "source": [
    "## What is the most popular dog name in all parts of the Bronx? How about Brooklyn? The Upper East Side?\n",
    "\n",
    "You'll want to do these separately, and filter for each."
   ]
  },
  {
   "cell_type": "code",
   "execution_count": null,
   "metadata": {},
   "outputs": [],
   "source": []
  },
  {
   "cell_type": "markdown",
   "metadata": {},
   "source": [
    "## What is the most common dog breed in each of the neighborhoods of NYC?\n",
    "\n",
    "* *Tip: There are a few ways to do this, and some are awful (see the \"top 5 breeds in each borough\" question below).*"
   ]
  },
  {
   "cell_type": "code",
   "execution_count": null,
   "metadata": {},
   "outputs": [],
   "source": []
  },
  {
   "cell_type": "code",
   "execution_count": null,
   "metadata": {},
   "outputs": [],
   "source": []
  },
  {
   "cell_type": "markdown",
   "metadata": {},
   "source": [
    "## What breed of dogs are the least likely to be spayed? Male or female?\n",
    "\n",
    "* *Tip: This has a handful of interpretations, and some are easier than others. Feel free to skip it if you can't figure it out to your satisfaction.*"
   ]
  },
  {
   "cell_type": "code",
   "execution_count": null,
   "metadata": {},
   "outputs": [],
   "source": []
  },
  {
   "cell_type": "markdown",
   "metadata": {},
   "source": [
    "## Make a new column called `monochrome` that is True for any animal that only has black, white or grey as one of its colors. How many animals are monochrome?"
   ]
  },
  {
   "cell_type": "code",
   "execution_count": null,
   "metadata": {},
   "outputs": [],
   "source": []
  },
  {
   "cell_type": "markdown",
   "metadata": {},
   "source": [
    "## How many dogs are in each borough? Plot it in a graph."
   ]
  },
  {
   "cell_type": "code",
   "execution_count": null,
   "metadata": {},
   "outputs": [],
   "source": []
  },
  {
   "cell_type": "markdown",
   "metadata": {},
   "source": [
    "## Which borough has the highest number of dogs per-capita?\n",
    "\n",
    "You’ll need to merge in `population_boro.csv`"
   ]
  },
  {
   "cell_type": "code",
   "execution_count": null,
   "metadata": {},
   "outputs": [],
   "source": []
  },
  {
   "cell_type": "markdown",
   "metadata": {},
   "source": [
    "## Make a bar graph of the top 5 breeds in each borough.\n",
    "\n",
    "How do you groupby and then only take the top X number? You **really** should ask me, because it's kind of crazy."
   ]
  },
  {
   "cell_type": "code",
   "execution_count": null,
   "metadata": {},
   "outputs": [],
   "source": []
  }
 ],
 "metadata": {
  "kernelspec": {
   "display_name": "Python 3 (ipykernel)",
   "language": "python",
   "name": "python3"
  },
  "language_info": {
   "codemirror_mode": {
    "name": "ipython",
    "version": 3
   },
   "file_extension": ".py",
   "mimetype": "text/x-python",
   "name": "python",
   "nbconvert_exporter": "python",
   "pygments_lexer": "ipython3",
   "version": "3.10.3"
  }
 },
 "nbformat": 4,
 "nbformat_minor": 2
}
